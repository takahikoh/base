{
  "cells": [
    {
      "cell_type": "code",
      "execution_count": 1,
      "metadata": {
        "id": "0aIrond_MSj9"
      },
      "outputs": [],
      "source": [
        "# ここにノートブックの名前を指定してください\n",
        "notebook_name = 'run_lgb.ipynb'"
      ]
    },
    {
      "cell_type": "code",
      "execution_count": 3,
      "metadata": {},
      "outputs": [],
      "source": [
        "import os\n",
        "import sys\n",
        "\n",
        "notebook_dir = os.path.dirname(os.path.abspath(notebook_name))\n",
        "code_dir = os.path.abspath(os.path.join(notebook_dir, '../code'))\n",
        "sys.path.append(code_dir)"
      ]
    },
    {
      "cell_type": "code",
      "execution_count": 8,
      "metadata": {},
      "outputs": [],
      "source": [
        "# 必要なライブラリーをインストール\n",
        "import pandas as pd\n",
        "import numpy as np\n",
        "\n",
        "from runner import Runner\n",
        "from runner_gfs import GFSRunner\n",
        "from runner_optuna import OptunaRunner\n",
        "from util import Logger, Util, Submission\n",
        "from model_lgb import ModelLGB\n",
        "from easyplot import easyplot\n",
        "\n",
        "pd.set_option('display.max_columns', None)\n",
        "logger = Logger()"
      ]
    },
    {
      "cell_type": "code",
      "execution_count": 5,
      "metadata": {
        "colab": {
          "base_uri": "https://localhost:8080/",
          "height": 206
        },
        "id": "JjFMOpBdMl-N",
        "outputId": "383893ab-1e2d-463e-bc7b-2ed896ee994b"
      },
      "outputs": [
        {
          "data": {
            "text/html": [
              "<div>\n",
              "<style scoped>\n",
              "    .dataframe tbody tr th:only-of-type {\n",
              "        vertical-align: middle;\n",
              "    }\n",
              "\n",
              "    .dataframe tbody tr th {\n",
              "        vertical-align: top;\n",
              "    }\n",
              "\n",
              "    .dataframe thead th {\n",
              "        text-align: right;\n",
              "    }\n",
              "</style>\n",
              "<table border=\"1\" class=\"dataframe\">\n",
              "  <thead>\n",
              "    <tr style=\"text-align: right;\">\n",
              "      <th></th>\n",
              "      <th>PassengerId</th>\n",
              "      <th>Survived</th>\n",
              "      <th>Pclass</th>\n",
              "      <th>Name</th>\n",
              "      <th>Sex</th>\n",
              "      <th>Age</th>\n",
              "      <th>SibSp</th>\n",
              "      <th>Parch</th>\n",
              "      <th>Ticket</th>\n",
              "      <th>Fare</th>\n",
              "      <th>Cabin</th>\n",
              "      <th>Embarked</th>\n",
              "    </tr>\n",
              "  </thead>\n",
              "  <tbody>\n",
              "    <tr>\n",
              "      <th>0</th>\n",
              "      <td>1</td>\n",
              "      <td>0</td>\n",
              "      <td>3</td>\n",
              "      <td>Braund, Mr. Owen Harris</td>\n",
              "      <td>male</td>\n",
              "      <td>22.0</td>\n",
              "      <td>1</td>\n",
              "      <td>0</td>\n",
              "      <td>A/5 21171</td>\n",
              "      <td>7.2500</td>\n",
              "      <td>NaN</td>\n",
              "      <td>S</td>\n",
              "    </tr>\n",
              "    <tr>\n",
              "      <th>1</th>\n",
              "      <td>2</td>\n",
              "      <td>1</td>\n",
              "      <td>1</td>\n",
              "      <td>Cumings, Mrs. John Bradley (Florence Briggs Th...</td>\n",
              "      <td>female</td>\n",
              "      <td>38.0</td>\n",
              "      <td>1</td>\n",
              "      <td>0</td>\n",
              "      <td>PC 17599</td>\n",
              "      <td>71.2833</td>\n",
              "      <td>C85</td>\n",
              "      <td>C</td>\n",
              "    </tr>\n",
              "    <tr>\n",
              "      <th>2</th>\n",
              "      <td>3</td>\n",
              "      <td>1</td>\n",
              "      <td>3</td>\n",
              "      <td>Heikkinen, Miss. Laina</td>\n",
              "      <td>female</td>\n",
              "      <td>26.0</td>\n",
              "      <td>0</td>\n",
              "      <td>0</td>\n",
              "      <td>STON/O2. 3101282</td>\n",
              "      <td>7.9250</td>\n",
              "      <td>NaN</td>\n",
              "      <td>S</td>\n",
              "    </tr>\n",
              "    <tr>\n",
              "      <th>3</th>\n",
              "      <td>4</td>\n",
              "      <td>1</td>\n",
              "      <td>1</td>\n",
              "      <td>Futrelle, Mrs. Jacques Heath (Lily May Peel)</td>\n",
              "      <td>female</td>\n",
              "      <td>35.0</td>\n",
              "      <td>1</td>\n",
              "      <td>0</td>\n",
              "      <td>113803</td>\n",
              "      <td>53.1000</td>\n",
              "      <td>C123</td>\n",
              "      <td>S</td>\n",
              "    </tr>\n",
              "    <tr>\n",
              "      <th>4</th>\n",
              "      <td>5</td>\n",
              "      <td>0</td>\n",
              "      <td>3</td>\n",
              "      <td>Allen, Mr. William Henry</td>\n",
              "      <td>male</td>\n",
              "      <td>35.0</td>\n",
              "      <td>0</td>\n",
              "      <td>0</td>\n",
              "      <td>373450</td>\n",
              "      <td>8.0500</td>\n",
              "      <td>NaN</td>\n",
              "      <td>S</td>\n",
              "    </tr>\n",
              "  </tbody>\n",
              "</table>\n",
              "</div>"
            ],
            "text/plain": [
              "   PassengerId  Survived  Pclass  \\\n",
              "0            1         0       3   \n",
              "1            2         1       1   \n",
              "2            3         1       3   \n",
              "3            4         1       1   \n",
              "4            5         0       3   \n",
              "\n",
              "                                                Name     Sex   Age  SibSp  \\\n",
              "0                            Braund, Mr. Owen Harris    male  22.0      1   \n",
              "1  Cumings, Mrs. John Bradley (Florence Briggs Th...  female  38.0      1   \n",
              "2                             Heikkinen, Miss. Laina  female  26.0      0   \n",
              "3       Futrelle, Mrs. Jacques Heath (Lily May Peel)  female  35.0      1   \n",
              "4                           Allen, Mr. William Henry    male  35.0      0   \n",
              "\n",
              "   Parch            Ticket     Fare Cabin Embarked  \n",
              "0      0         A/5 21171   7.2500   NaN        S  \n",
              "1      0          PC 17599  71.2833   C85        C  \n",
              "2      0  STON/O2. 3101282   7.9250   NaN        S  \n",
              "3      0            113803  53.1000  C123        S  \n",
              "4      0            373450   8.0500   NaN        S  "
            ]
          },
          "execution_count": 5,
          "metadata": {},
          "output_type": "execute_result"
        }
      ],
      "source": [
        "train = pd.read_csv('../input/train.csv')\n",
        "test = pd.read_csv('../input/test.csv')\n",
        "train.head(5)"
      ]
    },
    {
      "cell_type": "code",
      "execution_count": 10,
      "metadata": {},
      "outputs": [
        {
          "data": {
            "application/vnd.jupyter.widget-view+json": {
              "model_id": "a3cb13e466e24eb98dd9bf480a6dc5ad",
              "version_major": 2,
              "version_minor": 0
            },
            "text/plain": [
              "HTML(value='\\n            <h2 style=\"text-align:left; margin-bottom: 0;\">各種グラフ</h2>\\n            <hr style=\"bo…"
            ]
          },
          "metadata": {},
          "output_type": "display_data"
        },
        {
          "data": {
            "application/vnd.jupyter.widget-view+json": {
              "model_id": "5562da38161248e795101057f483e7cb",
              "version_major": 2,
              "version_minor": 0
            },
            "text/plain": [
              "Tab(children=(VBox(children=(HBox(children=(Dropdown(description='x軸:', options=('PassengerId', 'Survived', 'P…"
            ]
          },
          "metadata": {},
          "output_type": "display_data"
        }
      ],
      "source": [
        "ep = easyplot(train)\n",
        "ep.display_all()"
      ]
    },
    {
      "cell_type": "code",
      "execution_count": null,
      "metadata": {
        "colab": {
          "base_uri": "https://localhost:8080/"
        },
        "id": "i5KtqrspOxSP",
        "outputId": "b9801734-9fc1-4cf6-862f-88cd95d10733"
      },
      "outputs": [
        {
          "name": "stdout",
          "output_type": "stream",
          "text": [
            "X_train data types:\n",
            " Pclass         int8\n",
            "Sex            int8\n",
            "Age         float64\n",
            "SibSp         int64\n",
            "Parch         int64\n",
            "Fare        float64\n",
            "Embarked       int8\n",
            "dtype: object\n",
            "\n",
            "X_test data types:\n",
            " Pclass         int8\n",
            "Sex            int8\n",
            "Age         float64\n",
            "SibSp         int64\n",
            "Parch         int64\n",
            "Fare        float64\n",
            "Embarked       int8\n",
            "dtype: object\n"
          ]
        }
      ],
      "source": [
        "# データを簡単に加工します\n",
        "\n",
        "def create_features(df):\n",
        "    df['Sex'] = df['Sex'].astype('category').cat.codes\n",
        "    df['Embarked'] = df['Embarked'].astype('category').cat.codes\n",
        "    df['Pclass'] = df['Pclass'].astype('category').cat.codes\n",
        "    return df\n",
        "\n",
        "train = train.drop(['PassengerId', 'Name', 'Ticket', 'Cabin'], axis=1)\n",
        "test = test.drop(['PassengerId', 'Name', 'Ticket', 'Cabin'], axis=1)\n",
        "\n",
        "train = create_features(train)\n",
        "test = create_features(test)\n",
        "\n",
        "y_train = train['Survived']\n",
        "X_train = train.drop('Survived', axis=1)\n",
        "X_test = test.copy() # Target variable is not present in test set\n",
        "\n",
        "print(\"X_train data types:\\n\", X_train.dtypes)\n",
        "print(\"\\nX_test data types:\\n\", X_test.dtypes)\n"
      ]
    },
    {
      "cell_type": "code",
      "execution_count": 15,
      "metadata": {
        "id": "zW6kzIbYS59M"
      },
      "outputs": [],
      "source": [
        "params_lgb = {\n",
        "    #'device_type': 'cuda', #CPU->cpu, GPU->cuda\n",
        "    'objective': 'binary',\n",
        "    'metric': 'auc',\n",
        "    'boosting_type': 'gbdt',\n",
        "    'learning_rate': 0.01,\n",
        "    'num_iterations': 5000,\n",
        "    'verbosity': -1\n",
        "}"
      ]
    },
    {
      "cell_type": "code",
      "execution_count": 16,
      "metadata": {
        "id": "0w0SRcgaS9I6"
      },
      "outputs": [],
      "source": [
        "runner = Runner(\n",
        "    run_name=f'lgb',\n",
        "    model_cls=ModelLGB,\n",
        "    params=params_lgb,\n",
        "    train_x=X_train,\n",
        "    train_y=y_train,\n",
        "    test_x=X_test\n",
        ")"
      ]
    },
    {
      "cell_type": "code",
      "execution_count": 17,
      "metadata": {
        "colab": {
          "base_uri": "https://localhost:8080/"
        },
        "id": "J32PetZVTEPu",
        "outputId": "a4fe326d-f172-4aca-d662-796770ba86e7"
      },
      "outputs": [
        {
          "name": "stderr",
          "output_type": "stream",
          "text": [
            "[2025-06-05 14:32:40] - lgb - start training cv\n",
            "[2025-06-05 14:32:40] - lgb fold 0 - start training\n"
          ]
        },
        {
          "name": "stdout",
          "output_type": "stream",
          "text": [
            "Training until validation scores don't improve for 50 rounds\n",
            "[50]\ttrain's auc: 0.911098\teval's auc: 0.874297\n",
            "[100]\ttrain's auc: 0.920839\teval's auc: 0.888065\n",
            "[150]\ttrain's auc: 0.928115\teval's auc: 0.901535\n",
            "[200]\ttrain's auc: 0.933881\teval's auc: 0.90422\n",
            "[250]\ttrain's auc: 0.942756\teval's auc: 0.911296\n"
          ]
        },
        {
          "name": "stderr",
          "output_type": "stream",
          "text": [
            "[2025-06-05 14:32:42] - lgb fold 0 - end training - score 0.9140238704177324\n",
            "[2025-06-05 14:32:42] - lgb fold 1 - start training\n"
          ]
        },
        {
          "name": "stdout",
          "output_type": "stream",
          "text": [
            "[300]\ttrain's auc: 0.949199\teval's auc: 0.913257\n",
            "Early stopping, best iteration is:\n",
            "[284]\ttrain's auc: 0.946543\teval's auc: 0.914024\n",
            "Training until validation scores don't improve for 50 rounds\n",
            "[50]\ttrain's auc: 0.923572\teval's auc: 0.855967\n",
            "[100]\ttrain's auc: 0.927872\teval's auc: 0.867425\n",
            "[150]\ttrain's auc: 0.932494\teval's auc: 0.871075\n"
          ]
        },
        {
          "name": "stderr",
          "output_type": "stream",
          "text": [
            "[2025-06-05 14:32:43] - lgb fold 1 - end training - score 0.8758275335257172\n"
          ]
        },
        {
          "name": "stdout",
          "output_type": "stream",
          "text": [
            "[200]\ttrain's auc: 0.938164\teval's auc: 0.875064\n",
            "Early stopping, best iteration is:\n",
            "[191]\ttrain's auc: 0.936628\teval's auc: 0.875828\n"
          ]
        },
        {
          "name": "stderr",
          "output_type": "stream",
          "text": [
            "[2025-06-05 14:32:43] - lgb fold 2 - start training\n"
          ]
        },
        {
          "name": "stdout",
          "output_type": "stream",
          "text": [
            "Training until validation scores don't improve for 50 rounds\n"
          ]
        },
        {
          "name": "stderr",
          "output_type": "stream",
          "text": [
            "[2025-06-05 14:32:43] - lgb fold 2 - end training - score 0.848115769818367\n",
            "[2025-06-05 14:32:43] - lgb fold 3 - start training\n"
          ]
        },
        {
          "name": "stdout",
          "output_type": "stream",
          "text": [
            "[50]\ttrain's auc: 0.918021\teval's auc: 0.843363\n",
            "Early stopping, best iteration is:\n",
            "[13]\ttrain's auc: 0.905909\teval's auc: 0.848116\n",
            "Training until validation scores don't improve for 50 rounds\n",
            "[50]\ttrain's auc: 0.906105\teval's auc: 0.879176\n",
            "[100]\ttrain's auc: 0.92352\teval's auc: 0.886217\n",
            "[150]\ttrain's auc: 0.93194\teval's auc: 0.892271\n"
          ]
        },
        {
          "name": "stderr",
          "output_type": "stream",
          "text": [
            "[2025-06-05 14:32:44] - lgb fold 3 - end training - score 0.8929154143409188\n",
            "[2025-06-05 14:32:44] - lgb - end training cv - score 0.8827206470256838\n",
            "name:lgb\tscore:0.8827206470256838\tscore0:0.9140238704177324\tscore1:0.8758275335257172\tscore2:0.848115769818367\tscore3:0.8929154143409188\n",
            "[2025-06-05 14:32:44] - lgb - start prediction cv\n",
            "[2025-06-05 14:32:44] - lgb - start prediction fold:0\n",
            "[2025-06-05 14:32:44] - lgb - end prediction fold:0\n",
            "[2025-06-05 14:32:44] - lgb - start prediction fold:1\n",
            "[2025-06-05 14:32:44] - lgb - end prediction fold:1\n",
            "[2025-06-05 14:32:44] - lgb - start prediction fold:2\n",
            "[2025-06-05 14:32:44] - lgb - end prediction fold:2\n",
            "[2025-06-05 14:32:44] - lgb - start prediction fold:3\n",
            "[2025-06-05 14:32:44] - lgb - end prediction fold:3\n",
            "[2025-06-05 14:32:44] - lgb - end prediction cv\n"
          ]
        },
        {
          "name": "stdout",
          "output_type": "stream",
          "text": [
            "[200]\ttrain's auc: 0.936794\teval's auc: 0.88845\n",
            "Early stopping, best iteration is:\n",
            "[170]\ttrain's auc: 0.934084\teval's auc: 0.892915\n"
          ]
        }
      ],
      "source": [
        "runner.run_train_cv()\n",
        "runner.run_predict_cv()"
      ]
    },
    {
      "cell_type": "code",
      "execution_count": 18,
      "metadata": {
        "id": "JQjtKK_2THyd"
      },
      "outputs": [],
      "source": [
        "Submission.create_submission('lgb-cv')"
      ]
    }
  ],
  "metadata": {
    "colab": {
      "authorship_tag": "ABX9TyOtoRCnlEKSvFOGFydPHmoa",
      "mount_file_id": "1HxIVhccLt7qwCS0xQ7MiHUkTdGr3KSY7",
      "provenance": []
    },
    "kernelspec": {
      "display_name": "myenv1",
      "language": "python",
      "name": "python3"
    },
    "language_info": {
      "codemirror_mode": {
        "name": "ipython",
        "version": 3
      },
      "file_extension": ".py",
      "mimetype": "text/x-python",
      "name": "python",
      "nbconvert_exporter": "python",
      "pygments_lexer": "ipython3",
      "version": "3.12.2"
    }
  },
  "nbformat": 4,
  "nbformat_minor": 0
}
